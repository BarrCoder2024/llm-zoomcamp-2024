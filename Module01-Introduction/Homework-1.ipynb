{
 "cells": [
  {
   "cell_type": "code",
   "execution_count": 8,
   "id": "1868dc23-e927-45bc-b077-4c1d97941ebc",
   "metadata": {},
   "outputs": [],
   "source": [
    "import openai\n",
    "from openai import OpenAI\n",
    "import os"
   ]
  },
  {
   "cell_type": "code",
   "execution_count": 9,
   "id": "1ca005fd-4c78-44f7-a296-9c39036dc77c",
   "metadata": {},
   "outputs": [],
   "source": [
    "API_KEY = os.getenv(\"OPENAI_API_KEY\")\n",
    "client = OpenAI(api_key=API_KEY)"
   ]
  },
  {
   "cell_type": "code",
   "execution_count": 11,
   "id": "643a9355-87ee-431c-979c-e4d7bc3b7a8e",
   "metadata": {},
   "outputs": [],
   "source": [
    "response = client.chat.completions.create(\n",
    "    model='gpt-4o-mini',\n",
    "    messages=[{\"role\":\"user\",\"content\":\"is it too late to join the course?\"}]   \n",
    ")"
   ]
  },
  {
   "cell_type": "code",
   "execution_count": 13,
   "id": "590111bf-ede4-498f-954d-41278475e4ab",
   "metadata": {},
   "outputs": [
    {
     "data": {
      "text/plain": [
       "\"Whether it's too late to join a course depends on several factors, such as the course's enrollment deadlines, its structure, and the institution offering it. Here are a few steps you can take:\\n\\n1. **Check the Enrollment Dates**: Look at the course information provided by the institution or platform to see if there are specific enrollment deadlines.\\n\\n2. **Contact the Instructor or Institution**: Reach out directly to the instructor or the admissions office. They can provide information on whether late enrollment is possible.\\n\\n3. **Consider the Course Format**: Some courses are self-paced, allowing for late enrollment, while others might have a strict schedule.\\n\\n4. **Look for Alternatives**: If the course is not accepting new students, there might be similar courses available either at the same institution or elsewhere.\\n\\nIf you provide more details about the course, I may be able to assist you further!\""
      ]
     },
     "execution_count": 13,
     "metadata": {},
     "output_type": "execute_result"
    }
   ],
   "source": [
    "response.choices[0].message.content"
   ]
  },
  {
   "cell_type": "code",
   "execution_count": null,
   "id": "bc6b2217-52b1-4a36-95b0-933f1e3d97cc",
   "metadata": {},
   "outputs": [],
   "source": []
  }
 ],
 "metadata": {
  "kernelspec": {
   "display_name": "Python 3 (ipykernel)",
   "language": "python",
   "name": "python3"
  },
  "language_info": {
   "codemirror_mode": {
    "name": "ipython",
    "version": 3
   },
   "file_extension": ".py",
   "mimetype": "text/x-python",
   "name": "python",
   "nbconvert_exporter": "python",
   "pygments_lexer": "ipython3",
   "version": "3.10.12"
  }
 },
 "nbformat": 4,
 "nbformat_minor": 5
}
